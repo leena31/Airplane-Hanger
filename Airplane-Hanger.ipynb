{
 "cells": [
  {
   "cell_type": "markdown",
   "metadata": {},
   "source": [
    "# number of airplanes in the hanger"
   ]
  },
  {
   "cell_type": "code",
   "execution_count": 69,
   "metadata": {},
   "outputs": [
    {
     "name": "stdout",
     "output_type": "stream",
     "text": [
      "How many airplanes are currently in the hanger? 5\n",
      "Thanks! There are currently 5 airplanes in the hanger.\n"
     ]
    }
   ],
   "source": [
    "airplanes_in_hanger = int(input(\"How many airplanes are currently in the hanger? \"))\n",
    "print(\"Thanks! There are currently %s airplanes in the hanger.\" % airplanes_in_hanger)"
   ]
  },
  {
   "cell_type": "markdown",
   "metadata": {},
   "source": [
    "## maximum number of airplanes the hanger can have"
   ]
  },
  {
   "cell_type": "code",
   "execution_count": 71,
   "metadata": {},
   "outputs": [
    {
     "name": "stdout",
     "output_type": "stream",
     "text": [
      "How many airplanes can the hanger hold?4\n",
      "Thanks! The hanger can hold up to 4 airplanes in the hanger.\n"
     ]
    }
   ],
   "source": [
    "max_airplanes_in_hanger = int(input(\"How many airplanes can the hanger hold?\"))\n",
    "print(\"Thanks! The hanger can hold up to %s airplanes in the hanger.\" % max_airplanes_in_hanger)"
   ]
  },
  {
   "cell_type": "markdown",
   "metadata": {},
   "source": [
    "## define the function to calculate the space in the hanger"
   ]
  },
  {
   "cell_type": "code",
   "execution_count": 72,
   "metadata": {},
   "outputs": [],
   "source": [
    "def calculate():\n",
    "    if airplanes_in_hanger >= max_airplanes_in_hanger:\n",
    "        print(\"Hanger is full!\")\n",
    "    elif airplanes_in_hanger > (max_airplanes_in_hanger/2):\n",
    "        print(\"Hanger is almost full!\")\n",
    "    else:\n",
    "        print(\"There's still space in the hanger!\")"
   ]
  },
  {
   "cell_type": "markdown",
   "metadata": {},
   "source": [
    "# call the function"
   ]
  },
  {
   "cell_type": "code",
   "execution_count": 73,
   "metadata": {},
   "outputs": [
    {
     "name": "stdout",
     "output_type": "stream",
     "text": [
      "Hanger is full!\n"
     ]
    }
   ],
   "source": [
    "calculate()"
   ]
  },
  {
   "cell_type": "code",
   "execution_count": null,
   "metadata": {},
   "outputs": [],
   "source": []
  }
 ],
 "metadata": {
  "kernelspec": {
   "display_name": "Python 3",
   "language": "python",
   "name": "python3"
  },
  "language_info": {
   "codemirror_mode": {
    "name": "ipython",
    "version": 3
   },
   "file_extension": ".py",
   "mimetype": "text/x-python",
   "name": "python",
   "nbconvert_exporter": "python",
   "pygments_lexer": "ipython3",
   "version": "3.7.3"
  }
 },
 "nbformat": 4,
 "nbformat_minor": 2
}
